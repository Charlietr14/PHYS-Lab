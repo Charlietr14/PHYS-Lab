{
 "cells": [
  {
   "cell_type": "markdown",
   "id": "765ede05",
   "metadata": {},
   "source": [
    "# <span style='color:blue'> LAB2: </span>\n",
    "# <span style='color:blue'> PYTORCH INTRODUCTION </span>"
   ]
  },
  {
   "cell_type": "markdown",
   "id": "2001cc17",
   "metadata": {},
   "source": [
    "# <span style='color:red'> Part 1: Python as Deep Learning Platform -----------------------------------------------------</span>"
   ]
  },
  {
   "cell_type": "markdown",
   "id": "cf890327",
   "metadata": {},
   "source": [
    "### 1.1 - Verify PyTorch Installation"
   ]
  },
  {
   "cell_type": "code",
   "execution_count": 2,
   "id": "b094209d",
   "metadata": {},
   "outputs": [],
   "source": [
    "# Import necessary packages\n",
    "\n",
    "import numpy as np\n",
    "import torch"
   ]
  },
  {
   "cell_type": "code",
   "execution_count": 3,
   "id": "1899d484",
   "metadata": {},
   "outputs": [
    {
     "name": "stdout",
     "output_type": "stream",
     "text": [
      "tensor([[0.7668, 0.9273, 0.1716],\n",
      "        [0.6974, 0.0278, 0.0973],\n",
      "        [0.0628, 0.4841, 0.5969],\n",
      "        [0.4445, 0.3112, 0.8397],\n",
      "        [0.0299, 0.4089, 0.0936]])\n"
     ]
    }
   ],
   "source": [
    "# Define a random torch tensor of shape (5, 3)\n",
    "\n",
    "x = torch.rand(5, 3)\n",
    "print(x)"
   ]
  },
  {
   "cell_type": "code",
   "execution_count": 4,
   "id": "65df02d3",
   "metadata": {},
   "outputs": [
    {
     "data": {
      "text/plain": [
       "False"
      ]
     },
     "execution_count": 4,
     "metadata": {},
     "output_type": "execute_result"
    }
   ],
   "source": [
    "# This lines ensures PyTorch can communicate with your GPU for hardware acceleration\n",
    "\n",
    "torch.cuda.is_available()"
   ]
  },
  {
   "cell_type": "markdown",
   "id": "08eb68cf",
   "metadata": {},
   "source": [
    "# <span style='color:red'> Part 2: Neural Network Workflow in PyTorch (Simple Linear Regression) ----------</span>"
   ]
  },
  {
   "cell_type": "markdown",
   "id": "045ebaa5",
   "metadata": {},
   "source": [
    "### 2.1 - Prepare Data"
   ]
  },
  {
   "cell_type": "code",
   "execution_count": 5,
   "id": "8598fbc8",
   "metadata": {},
   "outputs": [],
   "source": [
    "%matplotlib inline\n",
    "\n",
    "import matplotlib.pyplot as plt\n",
    "import numpy as np"
   ]
  },
  {
   "cell_type": "code",
   "execution_count": 6,
   "id": "502ab4d9",
   "metadata": {},
   "outputs": [],
   "source": [
    "# Generate training data for x and y\n",
    "\n",
    "x_train = np.arange(11, dtype = np.float32)\n",
    "x_train = x_train[:, np.newaxis] # [:, np.nexaxis] re-orient the x_train so that it's in vertical orientation\n",
    "\n",
    "y_train = (2 * x_train) + 1"
   ]
  },
  {
   "cell_type": "code",
   "execution_count": 7,
   "id": "49889902",
   "metadata": {},
   "outputs": [
    {
     "name": "stdout",
     "output_type": "stream",
     "text": [
      "[[ 0.]\n",
      " [ 1.]\n",
      " [ 2.]\n",
      " [ 3.]\n",
      " [ 4.]\n",
      " [ 5.]\n",
      " [ 6.]\n",
      " [ 7.]\n",
      " [ 8.]\n",
      " [ 9.]\n",
      " [10.]]\n"
     ]
    }
   ],
   "source": [
    "print(x_train)"
   ]
  },
  {
   "cell_type": "code",
   "execution_count": 8,
   "id": "9bd1c45d",
   "metadata": {},
   "outputs": [
    {
     "name": "stdout",
     "output_type": "stream",
     "text": [
      "[[ 1.]\n",
      " [ 3.]\n",
      " [ 5.]\n",
      " [ 7.]\n",
      " [ 9.]\n",
      " [11.]\n",
      " [13.]\n",
      " [15.]\n",
      " [17.]\n",
      " [19.]\n",
      " [21.]]\n"
     ]
    }
   ],
   "source": [
    "print(y_train)"
   ]
  },
  {
   "cell_type": "markdown",
   "id": "23562000",
   "metadata": {},
   "source": [
    "### 2.2 - Define Model"
   ]
  },
  {
   "cell_type": "code",
   "execution_count": 9,
   "id": "48999749",
   "metadata": {},
   "outputs": [],
   "source": [
    "# A neural network model in PyTorch is a class \n",
    "\n",
    "class linearRegression(torch.nn.Module):\n",
    "    \n",
    "    def __init__(self, input_dim, output_dim): # Initializes the model with a linear layer with input/output dimension\n",
    "        \n",
    "        super(linearRegression, self).__init__() # This line allows us to use attributes/methods from torch.nn.Module\n",
    "        \n",
    "        self.linear = torch.nn.Linear(input_dim, output_dim) # Define a single linear layer with input/output dimensions\n",
    "\n",
    "    def forward(self, x): # This function describes the information flow within the network from input -> output\n",
    "        \n",
    "        out = self.linear(x) # We only have a single layer so the network output = output of the linear layer \n",
    "        \n",
    "        return out"
   ]
  },
  {
   "cell_type": "markdown",
   "id": "60513711",
   "metadata": {},
   "source": [
    "### 2.3 - Select Hyperparameters"
   ]
  },
  {
   "cell_type": "code",
   "execution_count": 10,
   "id": "7df28b25",
   "metadata": {},
   "outputs": [],
   "source": [
    "# Initialize our neural network model with input and output dimensions\n",
    "model = linearRegression(input_dim = 1, output_dim = 1)\n",
    "\n",
    "# Define the learning rate and epoch (# of iterations)\n",
    "learning_rate = 0.01 \n",
    "epochs = 100\n",
    "\n",
    "# Define loss function and optimizer\n",
    "loss_func = torch.nn.MSELoss() \n",
    "optimizer = torch.optim.SGD(model.parameters(), lr = learning_rate)\n",
    "\n",
    "# Run this line if you have PyTorch GPU version\n",
    "if torch.cuda.is_available():\n",
    "    model.cuda()"
   ]
  },
  {
   "cell_type": "markdown",
   "id": "0c76eeb7",
   "metadata": {},
   "source": [
    "### 2.4 - Identify Tracked Values"
   ]
  },
  {
   "cell_type": "code",
   "execution_count": 11,
   "id": "c4be6f16",
   "metadata": {},
   "outputs": [],
   "source": [
    "# Define a list or numpy array placeholder to keep track of our training loss\n",
    "\n",
    "train_loss_list = []"
   ]
  },
  {
   "cell_type": "markdown",
   "id": "7c1403d8",
   "metadata": {},
   "source": [
    "### 2.5 - Train Model"
   ]
  },
  {
   "cell_type": "code",
   "execution_count": 12,
   "id": "4c12bb57",
   "metadata": {
    "scrolled": true
   },
   "outputs": [
    {
     "name": "stdout",
     "output_type": "stream",
     "text": [
      "epoch 0, loss 323.3556823730469\n",
      "epoch 1, loss 26.577543258666992\n",
      "epoch 2, loss 2.3680343627929688\n",
      "epoch 3, loss 0.39110419154167175\n",
      "epoch 4, loss 0.22764205932617188\n",
      "epoch 5, loss 0.21212314069271088\n",
      "epoch 6, loss 0.20869582891464233\n",
      "epoch 7, loss 0.20627886056900024\n",
      "epoch 8, loss 0.20396842062473297\n",
      "epoch 9, loss 0.20169030129909515\n",
      "epoch 10, loss 0.1994379162788391\n",
      "epoch 11, loss 0.19721084833145142\n",
      "epoch 12, loss 0.19500881433486938\n",
      "epoch 13, loss 0.1928310990333557\n",
      "epoch 14, loss 0.19067777693271637\n",
      "epoch 15, loss 0.1885484755039215\n",
      "epoch 16, loss 0.1864430010318756\n",
      "epoch 17, loss 0.1843610256910324\n",
      "epoch 18, loss 0.1823022961616516\n",
      "epoch 19, loss 0.18026648461818695\n",
      "epoch 20, loss 0.17825354635715485\n",
      "epoch 21, loss 0.17626290023326874\n",
      "epoch 22, loss 0.17429472506046295\n",
      "epoch 23, loss 0.1723482310771942\n",
      "epoch 24, loss 0.1704237163066864\n",
      "epoch 25, loss 0.16852065920829773\n",
      "epoch 26, loss 0.16663858294487\n",
      "epoch 27, loss 0.1647779792547226\n",
      "epoch 28, loss 0.16293777525424957\n",
      "epoch 29, loss 0.16111834347248077\n",
      "epoch 30, loss 0.15931926667690277\n",
      "epoch 31, loss 0.15754011273384094\n",
      "epoch 32, loss 0.15578095614910126\n",
      "epoch 33, loss 0.15404130518436432\n",
      "epoch 34, loss 0.15232114493846893\n",
      "epoch 35, loss 0.15062032639980316\n",
      "epoch 36, loss 0.14893823862075806\n",
      "epoch 37, loss 0.1472751498222351\n",
      "epoch 38, loss 0.14563068747520447\n",
      "epoch 39, loss 0.14400427043437958\n",
      "epoch 40, loss 0.1423962265253067\n",
      "epoch 41, loss 0.14080604910850525\n",
      "epoch 42, loss 0.1392337530851364\n",
      "epoch 43, loss 0.13767896592617035\n",
      "epoch 44, loss 0.13614170253276825\n",
      "epoch 45, loss 0.1346212774515152\n",
      "epoch 46, loss 0.13311806321144104\n",
      "epoch 47, loss 0.13163141906261444\n",
      "epoch 48, loss 0.1301616132259369\n",
      "epoch 49, loss 0.12870804965496063\n",
      "epoch 50, loss 0.12727083265781403\n",
      "epoch 51, loss 0.12584955990314484\n",
      "epoch 52, loss 0.12444429099559784\n",
      "epoch 53, loss 0.12305460125207901\n",
      "epoch 54, loss 0.12168055027723312\n",
      "epoch 55, loss 0.12032167613506317\n",
      "epoch 56, loss 0.11897797137498856\n",
      "epoch 57, loss 0.11764950305223465\n",
      "epoch 58, loss 0.11633569747209549\n",
      "epoch 59, loss 0.11503661423921585\n",
      "epoch 60, loss 0.11375191062688828\n",
      "epoch 61, loss 0.11248164623975754\n",
      "epoch 62, loss 0.1112256795167923\n",
      "epoch 63, loss 0.10998355597257614\n",
      "epoch 64, loss 0.10875556617975235\n",
      "epoch 65, loss 0.10754108428955078\n",
      "epoch 66, loss 0.1063399538397789\n",
      "epoch 67, loss 0.10515262931585312\n",
      "epoch 68, loss 0.10397841781377792\n",
      "epoch 69, loss 0.10281741619110107\n",
      "epoch 70, loss 0.10166921466588974\n",
      "epoch 71, loss 0.10053388774394989\n",
      "epoch 72, loss 0.0994112566113472\n",
      "epoch 73, loss 0.09830109775066376\n",
      "epoch 74, loss 0.0972033441066742\n",
      "epoch 75, loss 0.09611784666776657\n",
      "epoch 76, loss 0.09504447132349014\n",
      "epoch 77, loss 0.09398310631513596\n",
      "epoch 78, loss 0.09293366223573685\n",
      "epoch 79, loss 0.0918959304690361\n",
      "epoch 80, loss 0.09086976945400238\n",
      "epoch 81, loss 0.08985506743192673\n",
      "epoch 82, loss 0.08885166049003601\n",
      "epoch 83, loss 0.08785939961671829\n",
      "epoch 84, loss 0.08687838912010193\n",
      "epoch 85, loss 0.08590804785490036\n",
      "epoch 86, loss 0.08494886755943298\n",
      "epoch 87, loss 0.08400016278028488\n",
      "epoch 88, loss 0.08306220173835754\n",
      "epoch 89, loss 0.08213470876216888\n",
      "epoch 90, loss 0.08121756464242935\n",
      "epoch 91, loss 0.08031059056520462\n",
      "epoch 92, loss 0.0794137641787529\n",
      "epoch 93, loss 0.07852688431739807\n",
      "epoch 94, loss 0.0776500329375267\n",
      "epoch 95, loss 0.07678282260894775\n",
      "epoch 96, loss 0.07592546939849854\n",
      "epoch 97, loss 0.0750775933265686\n",
      "epoch 98, loss 0.07423928380012512\n",
      "epoch 99, loss 0.07341025024652481\n"
     ]
    }
   ],
   "source": [
    "# Convert our dataset (inputs and targets) into torch tensors\n",
    "\n",
    "if torch.cuda.is_available():\n",
    "    inputs = torch.from_numpy(x_train).cuda() # If using GPU version, transfer the dataset to GPU memory\n",
    "    targets = torch.from_numpy(y_train).cuda()\n",
    "else:\n",
    "    inputs = torch.from_numpy(x_train)\n",
    "    targets = torch.from_numpy(y_train)\n",
    "\n",
    "# TRAINING LOOP-------------------------------------------------------------------------\n",
    "\n",
    "for epoch in range(epochs): # For each epoch (i.e. single pass on the training dataset)\n",
    "\n",
    "    optimizer.zero_grad() # Empty the gradient buffer so each learning event per epoch is separate\n",
    "\n",
    "    outputs = model(inputs) # Forward pass the inputs through the network to produce outputs \n",
    "\n",
    "    loss = loss_func(outputs, targets) # Compute the loss via comparing the output with expected targets\n",
    "    \n",
    "    train_loss_list.append(loss.item()) # Save the loss value to train_loss_list we defined\n",
    "    \n",
    "    loss.backward() # Compute how much changes to be made to weights/biases\n",
    "\n",
    "    optimizer.step() # Update the weights/biases according to learning rate\n",
    "\n",
    "    print('epoch {}, loss {}'.format(epoch, loss.item()))"
   ]
  },
  {
   "cell_type": "markdown",
   "id": "4cd0258f",
   "metadata": {},
   "source": [
    "### 2.6 - Visualization and Evaluation"
   ]
  },
  {
   "cell_type": "code",
   "execution_count": 13,
   "id": "142f7a0c",
   "metadata": {},
   "outputs": [
    {
     "name": "stdout",
     "output_type": "stream",
     "text": [
      "[[ 0.4959906]\n",
      " [ 2.5685725]\n",
      " [ 4.641155 ]\n",
      " [ 6.7137365]\n",
      " [ 8.786319 ]\n",
      " [10.858901 ]\n",
      " [12.931482 ]\n",
      " [15.004065 ]\n",
      " [17.076647 ]\n",
      " [19.14923  ]\n",
      " [21.221811 ]]\n",
      "a: [[2.072582]] b: [0.4959906]\n"
     ]
    }
   ],
   "source": [
    "with torch.no_grad(): # Telling PyTorch we aren't passing inputs to the model for training purpose, which requires gradient\n",
    "    \n",
    "    if torch.cuda.is_available(): # If you are using GPU version\n",
    "        \n",
    "        # 1. Convert x_train (np.array) -> torch tensors with torch.from_numpy()\n",
    "        # 2. Transfer x_train to GPU using .cuda()\n",
    "        # 3. Feed forward x_train to model to obtain the output using model()\n",
    "        # 4. Since the model lives in GPU, we should bring back the model output to CPU with .cpu()\n",
    "        # 5. Finally convert the torch tensor to numpy with .numpy()\n",
    "        predicted = model(torch.from_numpy(x_train).cuda()).cpu().numpy() \n",
    "        \n",
    "    else:\n",
    "        \n",
    "        # With CPU version, steps 2,3,4 above is not needed\n",
    "        predicted = model(torch.from_numpy(x_train)).numpy()\n",
    "    \n",
    "    # Print the predicted outputs - i.e., y-values and weight and biases in the trained neural network\n",
    "    print(predicted) \n",
    "    print(\"a: \" + str(model.linear.weight.cpu().numpy()), \"b: \" + str(model.linear.bias.cpu().numpy()))"
   ]
  },
  {
   "cell_type": "code",
   "execution_count": 14,
   "id": "657c3809",
   "metadata": {},
   "outputs": [
    {
     "data": {
      "text/plain": [
       "Text(0, 0.5, 'y')"
      ]
     },
     "execution_count": 14,
     "metadata": {},
     "output_type": "execute_result"
    },
    {
     "data": {
      "image/png": "[encoded data removed]",
      "text/plain": [
       "<Figure size 1000x700 with 1 Axes>"
      ]
     },
     "metadata": {},
     "output_type": "display_data"
    }
   ],
   "source": [
    "# Plot the predicted-y (blue line) vs expected targets (black dots)\n",
    "\n",
    "plt.figure(figsize = (10, 7))\n",
    "\n",
    "plt.plot(predicted, '--', linewidth = 3)\n",
    "plt.plot(x_train, y_train, 'o', color = 'black', markersize = 10)\n",
    "plt.xlabel('x', fontsize = 50)\n",
    "plt.ylabel('y', fontsize = 50)"
   ]
  },
  {
   "cell_type": "markdown",
   "id": "1bd1b6a6",
   "metadata": {},
   "source": [
    "# <span style='color:red'> Part 3: Python Concepts for PyTorch ---------------------------------------------------------</span>"
   ]
  },
  {
   "cell_type": "markdown",
   "id": "1820e25a",
   "metadata": {},
   "source": [
    "### 3.1 - Python Classes"
   ]
  },
  {
   "cell_type": "code",
   "execution_count": 15,
   "id": "51887a31",
   "metadata": {},
   "outputs": [],
   "source": [
    "class Pokemon():\n",
    "    def __init__(self, Name, Type, Health): # Define attributes for the Pokemon object\n",
    "        self.Name = Name\n",
    "        self.Type = Type \n",
    "        self.Health = Health\n",
    "        \n",
    "    # Define methods for the Pokemon object\n",
    "    \n",
    "    def whats_your_name(self): # Your method can directly use the attributes defined in __init__\n",
    "        print(\"My name is \" + self.Name + \"!\")\n",
    "\n",
    "    def attack(self):\n",
    "        print(\"Electric attack! Zap!!\")\n",
    "\n",
    "    def dodge(self):\n",
    "        print(\"Pikachu Dodge!\")\n",
    "\n",
    "    def evolve(self):\n",
    "        print(\"Evolving to Raichu!!\")"
   ]
  },
  {
   "cell_type": "code",
   "execution_count": 16,
   "id": "a9100501",
   "metadata": {},
   "outputs": [],
   "source": [
    "pk1 = Pokemon(Name = \"Pikachu\", Type = \"Electric\", Health = 70)"
   ]
  },
  {
   "cell_type": "code",
   "execution_count": 17,
   "id": "d6c7d6a5",
   "metadata": {},
   "outputs": [
    {
     "data": {
      "text/plain": [
       "'Pikachu'"
      ]
     },
     "execution_count": 17,
     "metadata": {},
     "output_type": "execute_result"
    }
   ],
   "source": [
    "pk1.Name"
   ]
  },
  {
   "cell_type": "code",
   "execution_count": 18,
   "id": "30892060",
   "metadata": {},
   "outputs": [
    {
     "name": "stdout",
     "output_type": "stream",
     "text": [
      "My name is Pikachu!\n"
     ]
    }
   ],
   "source": [
    "pk1.whats_your_name()"
   ]
  },
  {
   "cell_type": "code",
   "execution_count": 19,
   "id": "84c2e2d8",
   "metadata": {},
   "outputs": [
    {
     "name": "stdout",
     "output_type": "stream",
     "text": [
      "Electric attack! Zap!!\n"
     ]
    }
   ],
   "source": [
    "pk1.attack()"
   ]
  },
  {
   "cell_type": "markdown",
   "id": "d919403f",
   "metadata": {},
   "source": [
    "### 3.2 - PyTorch Tensors vs Numpy Arrays"
   ]
  },
  {
   "cell_type": "code",
   "execution_count": 20,
   "id": "5e5de4ce",
   "metadata": {},
   "outputs": [
    {
     "name": "stdout",
     "output_type": "stream",
     "text": [
      "[1 2 3 4] <class 'numpy.ndarray'>\n"
     ]
    }
   ],
   "source": [
    "# Defining a numpy array\n",
    "array1 = np.array([1,2,3,4]) \n",
    "print(array1, type(array1))"
   ]
  },
  {
   "cell_type": "code",
   "execution_count": 21,
   "id": "30219acc",
   "metadata": {},
   "outputs": [
    {
     "name": "stdout",
     "output_type": "stream",
     "text": [
      "tensor([1, 2, 3, 4]) <class 'torch.Tensor'>\n"
     ]
    }
   ],
   "source": [
    "# Defining a torch tensor\n",
    "tensor1 = torch.tensor([1,2,3,4])\n",
    "print(tensor1, type(tensor1))"
   ]
  },
  {
   "cell_type": "code",
   "execution_count": 22,
   "id": "1a25ec8a",
   "metadata": {},
   "outputs": [
    {
     "name": "stdout",
     "output_type": "stream",
     "text": [
      "tensor([1, 2, 3, 4]) <class 'torch.Tensor'>\n"
     ]
    }
   ],
   "source": [
    "# Converting numpy array to torch tensor\n",
    "array1_torch = torch.from_numpy(array1)\n",
    "print(array1_torch, type(array1_torch))"
   ]
  },
  {
   "cell_type": "code",
   "execution_count": 23,
   "id": "6169a8dd",
   "metadata": {},
   "outputs": [
    {
     "name": "stdout",
     "output_type": "stream",
     "text": [
      "[1 2 3 4] <class 'numpy.ndarray'>\n"
     ]
    }
   ],
   "source": [
    "# Converting torch tensor to numpy array\n",
    "tensor1_numpy = tensor1.numpy()\n",
    "print(tensor1_numpy, type(tensor1_numpy))"
   ]
  },
  {
   "cell_type": "markdown",
   "id": "f6429c30",
   "metadata": {},
   "source": [
    "### 3.3 - Handling Torch Tensors"
   ]
  },
  {
   "cell_type": "code",
   "execution_count": 24,
   "id": "a931cbd4",
   "metadata": {},
   "outputs": [
    {
     "name": "stdout",
     "output_type": "stream",
     "text": [
      "cpu\n"
     ]
    }
   ],
   "source": [
    "# Transferring your torch tensor to CPU\n",
    "tensor1_cpu = tensor1.cpu()\n",
    "print(tensor1_cpu.device)"
   ]
  },
  {
   "cell_type": "code",
   "execution_count": 25,
   "id": "a71d086a",
   "metadata": {},
   "outputs": [
    {
     "ename": "AssertionError",
     "evalue": "Torch not compiled with CUDA enabled",
     "output_type": "error",
     "traceback": [
      "\u001b[0;31m---------------------------------------------------------------------------\u001b[0m",
      "\u001b[0;31mAssertionError\u001b[0m                            Traceback (most recent call last)",
      "Cell \u001b[0;32mIn[25], line 2\u001b[0m\n\u001b[1;32m      1\u001b[0m \u001b[38;5;66;03m# Transferring your torch tensor to GPU\u001b[39;00m\n\u001b[0;32m----> 2\u001b[0m tensor1_gpu \u001b[38;5;241m=\u001b[39m tensor1\u001b[38;5;241m.\u001b[39mcuda()\n\u001b[1;32m      3\u001b[0m \u001b[38;5;28mprint\u001b[39m(tensor1_gpu\u001b[38;5;241m.\u001b[39mdevice)\n",
      "File \u001b[0;32m/opt/anaconda3/lib/python3.11/site-packages/torch/cuda/__init__.py:284\u001b[0m, in \u001b[0;36m_lazy_init\u001b[0;34m()\u001b[0m\n\u001b[1;32m    279\u001b[0m     \u001b[38;5;28;01mraise\u001b[39;00m \u001b[38;5;167;01mRuntimeError\u001b[39;00m(\n\u001b[1;32m    280\u001b[0m         \u001b[38;5;124m\"\u001b[39m\u001b[38;5;124mCannot re-initialize CUDA in forked subprocess. To use CUDA with \u001b[39m\u001b[38;5;124m\"\u001b[39m\n\u001b[1;32m    281\u001b[0m         \u001b[38;5;124m\"\u001b[39m\u001b[38;5;124mmultiprocessing, you must use the \u001b[39m\u001b[38;5;124m'\u001b[39m\u001b[38;5;124mspawn\u001b[39m\u001b[38;5;124m'\u001b[39m\u001b[38;5;124m start method\u001b[39m\u001b[38;5;124m\"\u001b[39m\n\u001b[1;32m    282\u001b[0m     )\n\u001b[1;32m    283\u001b[0m \u001b[38;5;28;01mif\u001b[39;00m \u001b[38;5;129;01mnot\u001b[39;00m \u001b[38;5;28mhasattr\u001b[39m(torch\u001b[38;5;241m.\u001b[39m_C, \u001b[38;5;124m\"\u001b[39m\u001b[38;5;124m_cuda_getDeviceCount\u001b[39m\u001b[38;5;124m\"\u001b[39m):\n\u001b[0;32m--> 284\u001b[0m     \u001b[38;5;28;01mraise\u001b[39;00m \u001b[38;5;167;01mAssertionError\u001b[39;00m(\u001b[38;5;124m\"\u001b[39m\u001b[38;5;124mTorch not compiled with CUDA enabled\u001b[39m\u001b[38;5;124m\"\u001b[39m)\n\u001b[1;32m    285\u001b[0m \u001b[38;5;28;01mif\u001b[39;00m _cudart \u001b[38;5;129;01mis\u001b[39;00m \u001b[38;5;28;01mNone\u001b[39;00m:\n\u001b[1;32m    286\u001b[0m     \u001b[38;5;28;01mraise\u001b[39;00m \u001b[38;5;167;01mAssertionError\u001b[39;00m(\n\u001b[1;32m    287\u001b[0m         \u001b[38;5;124m\"\u001b[39m\u001b[38;5;124mlibcudart functions unavailable. It looks like you have a broken build?\u001b[39m\u001b[38;5;124m\"\u001b[39m\n\u001b[1;32m    288\u001b[0m     )\n",
      "\u001b[0;31mAssertionError\u001b[0m: Torch not compiled with CUDA enabled"
     ]
    }
   ],
   "source": [
    "# Transferring your torch tensor to GPU\n",
    "tensor1_gpu = tensor1.cuda()\n",
    "print(tensor1_gpu.device)"
   ]
  }
 ],
 "metadata": {
  "kernelspec": {
   "display_name": "Python 3 (ipykernel)",
   "language": "python",
   "name": "python3"
  },
  "language_info": {
   "codemirror_mode": {
    "name": "ipython",
    "version": 3
   },
   "file_extension": ".py",
   "mimetype": "text/x-python",
   "name": "python",
   "nbconvert_exporter": "python",
   "pygments_lexer": "ipython3",
   "version": "3.11.7"
  }
 },
 "nbformat": 4,
 "nbformat_minor": 5
}
